{
 "cells": [
  {
   "cell_type": "markdown",
   "id": "53069720",
   "metadata": {},
   "source": [
    "This notebook walks you through the process of getting Riveter scores out of a Riveter object and into a pandas dataframe. To run this notebook you will need your own (pickled) Riveter object, which you can create using Riveter (Antoniak et al. 2023). You can learn more about using Riveter on its [Github page](https://github.com/maartensap/riveter-nlp/tree/main). \n",
    "\n",
    "You can also use the [Python runfile available on Github here](https://github.com/julianeugarten/CCLS2025/blob/main/riveter_runfile.py), which was used for the paper *A Powerful Hades is an Unpopular Dude: Dynamics of Power and Agency in Hades/Persephone Fanfiction* for the Conference of Computational Literary Studies 2025. To run that file, you will need a csv of work-ids associated with works on AO3, and the texts of those works, which you can collect using [Radiolorian's AO3-Scraper](https://github.com/radiolarian/AO3Scraper).\n",
    "\n",
    "The Riveter objects resulting from the analysis in the paper have not been shared in open access to preserve the privacy of the fanfiction community.\n",
    "\n",
    "If you just want to explore the Riveter models explored in the paper, you can skip this notebook and go straight to the next two, which import the scores from a csv that is the output of this notebook."
   ]
  },
  {
   "cell_type": "markdown",
   "id": "bfa05112",
   "metadata": {},
   "source": [
    "## Install and import requirements"
   ]
  },
  {
   "cell_type": "code",
   "execution_count": null,
   "id": "64a9c065",
   "metadata": {},
   "outputs": [],
   "source": [
    "#I cloned the Riveter repository into this notebook using the following code\n",
    "# You can find extensive documentation on their Github\n",
    "# all credits go to Maria Antoniak, Anjalie Field, Jimin Mun, Melanie Walsh, Lauren F. Klein, and Maarten Sap.\n",
    "\n",
    "#! git clone https://github.com/maartensap/riveter-nlp.git"
   ]
  },
  {
   "cell_type": "code",
   "execution_count": null,
   "id": "57733a17",
   "metadata": {},
   "outputs": [],
   "source": [
    "#move into the folder containing Riveter (you may need to adapt the file path to your own situation here)\n",
    "\n",
    "%cd riveter-nlp/riveter"
   ]
  },
  {
   "cell_type": "code",
   "execution_count": null,
   "id": "bbae4b2c",
   "metadata": {},
   "outputs": [],
   "source": [
    "#install required spacy packages\n",
    "\n",
    "!pip install -U spacy-experimental\n",
    "!python -m spacy download en_core_web_sm\n",
    "!python -m spacy download en_coreference_web_trf"
   ]
  },
  {
   "cell_type": "code",
   "execution_count": null,
   "id": "8ceb2b46",
   "metadata": {},
   "outputs": [],
   "source": [
    "# importing the requirements\n",
    "\n",
    "from collections import defaultdict\n",
    "import os\n",
    "import numpy as np\n",
    "import pandas as pd\n",
    "import random\n",
    "from riveter import Riveter\n",
    "\n",
    "import csv\n",
    "import pickle\n",
    "\n",
    "# SPACY & COREF IMPORTS\n",
    "import spacy\n",
    "import spacy_experimental\n",
    "nlp = spacy.load(\"en_core_web_sm\")\n",
    "nlp_coref = spacy.load(\"en_coreference_web_trf\")\n",
    "\n",
    "nlp_coref.replace_listeners(\"transformer\", \"coref\", [\"model.tok2vec\"])\n",
    "nlp_coref.replace_listeners(\"transformer\", \"span_resolver\", [\"model.tok2vec\"])\n",
    "\n",
    "nlp.add_pipe(\"coref\", source=nlp_coref)\n",
    "nlp.add_pipe(\"span_resolver\", source=nlp_coref)"
   ]
  },
  {
   "cell_type": "markdown",
   "id": "0d3a77d2",
   "metadata": {},
   "source": [
    "I created the Riveter models out of all stories under 10.000 characters in the HadPer subset, because of length limitations related to coreference resolution."
   ]
  },
  {
   "cell_type": "markdown",
   "id": "37939659",
   "metadata": {},
   "source": [
    "## Loading models and data"
   ]
  },
  {
   "cell_type": "code",
   "execution_count": null,
   "id": "417773e6",
   "metadata": {},
   "outputs": [],
   "source": [
    "with open(\"YOUR_RIVETER_OBJECT.pkl\", 'rb') as f: # insert the name of your pickled Riveter object here.\n",
    "    riveter = pickle.load(f)"
   ]
  },
  {
   "cell_type": "code",
   "execution_count": null,
   "id": "7453c8e3",
   "metadata": {},
   "outputs": [],
   "source": [
    "# also load your csv of work-ids\n",
    "\n",
    "df = pd.read_csv('YOUR_FILE_NAME_HERE.csv')"
   ]
  },
  {
   "cell_type": "code",
   "execution_count": null,
   "id": "a1ea1d9b",
   "metadata": {},
   "outputs": [],
   "source": [
    "# quick sanity check\n",
    "df.head()"
   ]
  },
  {
   "cell_type": "markdown",
   "id": "c0a62a01",
   "metadata": {},
   "source": [
    "# What are the power scores?"
   ]
  },
  {
   "cell_type": "code",
   "execution_count": null,
   "id": "15b57710",
   "metadata": {},
   "outputs": [],
   "source": [
    "# Create a function to get the score for the desired entities\n",
    "# Hades is used as an example here, assuming Riveter's power lexicon has been applied.\n",
    "\n",
    "def get_character_score(identifier):\n",
    "    scores = riveter.get_scores_for_doc(identifier)  # get the word-score dictionary\n",
    "    return scores.get('hades', None)  # get the score for 'hades', or None if not found\n",
    "\n",
    "# Apply the function to each identifier and create a new column for the scores\n",
    "df['hades_power'] = df['work_id'].apply(get_character_score).astype(float)"
   ]
  },
  {
   "cell_type": "code",
   "execution_count": null,
   "id": "cdbeef7a",
   "metadata": {},
   "outputs": [],
   "source": [
    "# You can get some descriptive statistics of the scores\n",
    "\n",
    "df['hades_power'].dropna().describe()"
   ]
  },
  {
   "cell_type": "markdown",
   "id": "fb26d111",
   "metadata": {},
   "source": [
    "# Get Power Differential"
   ]
  },
  {
   "cell_type": "code",
   "execution_count": null,
   "id": "b8f0e8ce",
   "metadata": {},
   "outputs": [],
   "source": [
    "# If you have used the code above to extract power-scores for two entities you can calculate the difference scores\n",
    "# hades and persephone are used as an example here\n",
    "# Ensure the 'hades' and 'persephone' columns are of float type\n",
    "\n",
    "df['hades_power'] = df['hades_power'].astype(float).dropna()\n",
    "df['persephone_power'] = df['persephone_power'].astype(float).dropna()\n",
    "\n",
    "# Now calculate the power difference and store it in the new column\n",
    "df['power_diff'] = df['hades_power'] - df['persephone_power']"
   ]
  },
  {
   "cell_type": "markdown",
   "id": "f1dcbfdb",
   "metadata": {},
   "source": [
    "This way a *negative* power difference indicates that Persephone was the higher-powered entity"
   ]
  },
  {
   "cell_type": "code",
   "execution_count": null,
   "id": "299c03dc",
   "metadata": {},
   "outputs": [],
   "source": [
    "df['power_diff'].describe()"
   ]
  },
  {
   "cell_type": "markdown",
   "id": "001f94a9",
   "metadata": {},
   "source": [
    "## You can now save these scores to a csv"
   ]
  },
  {
   "cell_type": "code",
   "execution_count": null,
   "id": "453bc9cd",
   "metadata": {},
   "outputs": [],
   "source": [
    "df.to_csv('scores.csv', index=False)\n",
    "\n",
    "# In the notebooks that follow, my own csv of scores is titled 'CCLS2025.csv'"
   ]
  }
 ],
 "metadata": {
  "kernelspec": {
   "display_name": "riveterEnv",
   "language": "python",
   "name": "python3"
  },
  "language_info": {
   "codemirror_mode": {
    "name": "ipython",
    "version": 3
   },
   "file_extension": ".py",
   "mimetype": "text/x-python",
   "name": "python",
   "nbconvert_exporter": "python",
   "pygments_lexer": "ipython3",
   "version": "3.9.18"
  }
 },
 "nbformat": 4,
 "nbformat_minor": 5
}
