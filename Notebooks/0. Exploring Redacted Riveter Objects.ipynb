{
 "cells": [
  {
   "cell_type": "markdown",
   "id": "7a237bc7",
   "metadata": {},
   "source": [
    "\n",
    "# Introduction\n",
    "\n",
    "This notebook explores two *redacted* Riveter objects from the paper *A Powerful Hades is an Unpopular Dude: Dynamics of Power and Agency in Hades/Persephone Fanfiction* for the Conference of Computational Literary Studies 2025. The two Riveter objects operationalize the dimensions of power and agency in a corpus of Hades/Persephone fanfiction respectively. They have been redacted by removing the full texts of the fanfiction, so that the Riveter-scores for these texts can be analyzed and reused without violation of ethical norms or copyright. \n",
    "\n",
    "Note that while Riveter contains functions to explore the scores or detected entities per document, these functions will not work here because the documents and associated information have been redacted."
   ]
  },
  {
   "cell_type": "markdown",
   "id": "99577bf3",
   "metadata": {},
   "source": [
    "# Import Libraries"
   ]
  },
  {
   "cell_type": "code",
   "execution_count": null,
   "id": "4927c94b",
   "metadata": {},
   "outputs": [],
   "source": [
    "#I cloned the Riveter repository into this notebook using the code below\n",
    "# You can find extensive documentation on their Github\n",
    "# all credits go to Maria Antoniak, Anjalie Field, Jimin Mun, Melanie Walsh, Lauren F. Klein, and Maarten Sap.\n",
    "\n",
    "#! git clone https://github.com/maartensap/riveter-nlp.git"
   ]
  },
  {
   "cell_type": "code",
   "execution_count": null,
   "id": "79ca8551",
   "metadata": {},
   "outputs": [],
   "source": [
    "#move into the folder containing Riveter (you may need to adapt the file path to your own situation here)\n",
    "%cd riveter-nlp/riveter"
   ]
  },
  {
   "cell_type": "code",
   "execution_count": null,
   "id": "12259e01",
   "metadata": {},
   "outputs": [],
   "source": [
    "#install required spacy packages\n",
    "\n",
    "!pip install spacy # if you haven't already\n",
    "!pip install -U spacy-experimental\n",
    "!python -m spacy download en_core_web_sm\n",
    "!python -m spacy download en_coreference_web_trf"
   ]
  },
  {
   "cell_type": "code",
   "execution_count": null,
   "id": "dee3b1da",
   "metadata": {},
   "outputs": [],
   "source": [
    "# importing the requirements\n",
    "\n",
    "from collections import defaultdict\n",
    "import os\n",
    "import pandas as pd\n",
    "import random\n",
    "from riveter import Riveter\n",
    "import pickle\n",
    "\n",
    "import seaborn as sns\n",
    "import matplotlib.pyplot as plt\n",
    "\n",
    "\n",
    "# SPACY & COREF IMPORTS\n",
    "import spacy\n",
    "import spacy_experimental\n",
    "nlp = spacy.load(\"en_core_web_sm\")\n",
    "nlp_coref = spacy.load(\"en_coreference_web_trf\")\n",
    "\n",
    "nlp_coref.replace_listeners(\"transformer\", \"coref\", [\"model.tok2vec\"])\n",
    "nlp_coref.replace_listeners(\"transformer\", \"span_resolver\", [\"model.tok2vec\"])\n",
    "\n",
    "nlp.add_pipe(\"coref\", source=nlp_coref)\n",
    "nlp.add_pipe(\"span_resolver\", source=nlp_coref)"
   ]
  },
  {
   "cell_type": "markdown",
   "id": "b40cf90e",
   "metadata": {},
   "source": [
    "# Loading the model"
   ]
  },
  {
   "cell_type": "code",
   "execution_count": null,
   "id": "dad3c992",
   "metadata": {},
   "outputs": [],
   "source": [
    "# riveter = Riveter(filename = \"hadper_power.pkl\")\n",
    "with open(\"hadper_power_CCLS_redacted.pkl\", 'rb') as f:\n",
    "    riveter = pickle.load(f)\n",
    "    \n",
    "# note that you can change 'power' to 'agency' here to switch between dimensions"
   ]
  },
  {
   "cell_type": "code",
   "execution_count": null,
   "id": "fbb2b835",
   "metadata": {},
   "outputs": [],
   "source": [
    "# You can count the number of times a given entity has been assigned a coreference cluster\n",
    "\n",
    "clustercounts = riveter.get_persona_cluster('persephone')\n",
    "print(sum(clustercounts.values()))"
   ]
  },
  {
   "cell_type": "code",
   "execution_count": null,
   "id": "bbab5f11",
   "metadata": {},
   "outputs": [],
   "source": [
    "persona_score_dict = riveter.get_score_totals()\n",
    "for _persona, _score in sorted(persona_score_dict.items(), key=lambda x: x[1], reverse=True):\n",
    "    print(round(_score, 3), '\\t', _persona)"
   ]
  },
  {
   "cell_type": "markdown",
   "id": "ca71d7ab",
   "metadata": {},
   "source": [
    "# Cumulative Scores\n",
    "You can use the .get_score_totals() function to get cumulative power scores (or chosen dynamic scores) for each persona mentioned in the texts."
   ]
  },
  {
   "cell_type": "code",
   "execution_count": null,
   "id": "d05d58fc",
   "metadata": {},
   "outputs": [],
   "source": [
    "# a frequency threshold of 10 cleans up these results nicely\n",
    "\n",
    "riveter.get_score_totals(10)"
   ]
  },
  {
   "cell_type": "markdown",
   "id": "f3747402",
   "metadata": {},
   "source": [
    "### Scores per persona"
   ]
  },
  {
   "cell_type": "code",
   "execution_count": null,
   "id": "bc2314f8",
   "metadata": {},
   "outputs": [],
   "source": [
    "#We can see all the contributing verbs for each persona and whether they contributed positively or negatively.\n",
    "riveter.get_persona_polarity_verb_count_dict()"
   ]
  },
  {
   "cell_type": "code",
   "execution_count": null,
   "id": "5e064614",
   "metadata": {},
   "outputs": [],
   "source": [
    "# And we can view these scores for each persona.\n",
    "#In the following heatmap, each cell contains the count of matching verbs for the persona that contributed either positively or negatively to its final score. \n",
    "\n",
    "riveter.plot_verbs_for_persona('hades', figsize=(2, 8))"
   ]
  },
  {
   "cell_type": "markdown",
   "id": "20fa35d6",
   "metadata": {},
   "source": [
    "### Plotting scores"
   ]
  },
  {
   "cell_type": "code",
   "execution_count": null,
   "id": "c2d63fbc",
   "metadata": {},
   "outputs": [],
   "source": [
    "#You can use the .plot_scores() function to display a bar plot with the top n or bottom n personas in the texts.\n",
    "#The function will display the top 10 highest-scoring personas by default.\n",
    "\n",
    "\n",
    "\n",
    "riveter.plot_scores(title='Personas by Score', target_personas=['hades', 'persephone'], figsize=(3, 3))"
   ]
  }
 ],
 "metadata": {
  "kernelspec": {
   "display_name": "riveterEnv",
   "language": "python",
   "name": "python3"
  },
  "language_info": {
   "codemirror_mode": {
    "name": "ipython",
    "version": 3
   },
   "file_extension": ".py",
   "mimetype": "text/x-python",
   "name": "python",
   "nbconvert_exporter": "python",
   "pygments_lexer": "ipython3",
   "version": "3.9.18"
  }
 },
 "nbformat": 4,
 "nbformat_minor": 5
}
