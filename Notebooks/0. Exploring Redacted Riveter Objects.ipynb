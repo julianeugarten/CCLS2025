{
 "cells": [
  {
   "cell_type": "markdown",
   "id": "7a237bc7",
   "metadata": {},
   "source": [
    "\n",
    "# Introduction\n",
    "\n",
    "This notebook explores two *redacted* Riveter objects from the paper *A Powerful Hades is an Unpopular Dude: Dynamics of Power and Agency in Hades/Persephone Fanfiction* for the Conference of Computational Literary Studies 2025. The two Riveter objects operationalize the dimensions of power and agency in a corpus of Hades/Persephone fanfiction respectively. They have been redacted by removing the full texts of the fanfiction, so that the Riveter-scores for these texts can be analyzed and reused without violation of ethical norms or copyright. \n",
    "\n",
    "Note that while Riveter contains functions to explore the scores or detected entities per document, these functions will not work here because the documents and associated information have been redacted."
   ]
  },
  {
   "cell_type": "markdown",
   "id": "99577bf3",
   "metadata": {},
   "source": [
    "# Import Libraries"
   ]
  },
  {
   "cell_type": "code",
   "execution_count": 1,
   "id": "4927c94b",
   "metadata": {},
   "outputs": [
    {
     "name": "stdout",
     "output_type": "stream",
     "text": [
      "Cloning into 'riveter-nlp'...\n",
      "remote: Enumerating objects: 610, done.\u001b[K\n",
      "remote: Counting objects: 100% (218/218), done.\u001b[K\n",
      "remote: Compressing objects: 100% (108/108), done.\u001b[K\n",
      "remote: Total 610 (delta 141), reused 166 (delta 109), pack-reused 392 (from 1)\u001b[K\n",
      "Receiving objects: 100% (610/610), 5.24 MiB | 31.55 MiB/s, done.\n",
      "Resolving deltas: 100% (374/374), done.\n"
     ]
    }
   ],
   "source": [
    "#I cloned the Riveter repository into this notebook using the code below\n",
    "# You can find extensive documentation on their Github\n",
    "# all credits go to Maria Antoniak, Anjalie Field, Jimin Mun, Melanie Walsh, Lauren F. Klein, and Maarten Sap.\n",
    "\n",
    "! git clone --recurse-submodules  https://github.com/maartensap/riveter-nlp.git"
   ]
  },
  {
   "cell_type": "code",
   "execution_count": 2,
   "id": "79ca8551",
   "metadata": {},
   "outputs": [
    {
     "name": "stdout",
     "output_type": "stream",
     "text": [
      "/Users/julia.neugarten/Documents/GitHub/CCLS2025/Notebooks/riveter-nlp/riveter\n"
     ]
    }
   ],
   "source": [
    "#move into the folder containing Riveter (you may need to adapt the file path to your own situation here)\n",
    "%cd riveter-nlp/riveter"
   ]
  },
  {
   "cell_type": "code",
   "execution_count": 3,
   "id": "12259e01",
   "metadata": {},
   "outputs": [
    {
     "name": "stdout",
     "output_type": "stream",
     "text": [
      "Requirement already satisfied: spacy in /Users/julia.neugarten/opt/anaconda3/envs/riveterEnv/lib/python3.9/site-packages (3.7.5)\n",
      "Requirement already satisfied: spacy-legacy<3.1.0,>=3.0.11 in /Users/julia.neugarten/opt/anaconda3/envs/riveterEnv/lib/python3.9/site-packages (from spacy) (3.0.12)\n",
      "Requirement already satisfied: spacy-loggers<2.0.0,>=1.0.0 in /Users/julia.neugarten/opt/anaconda3/envs/riveterEnv/lib/python3.9/site-packages (from spacy) (1.0.5)\n",
      "Requirement already satisfied: murmurhash<1.1.0,>=0.28.0 in /Users/julia.neugarten/opt/anaconda3/envs/riveterEnv/lib/python3.9/site-packages (from spacy) (1.0.10)\n",
      "Requirement already satisfied: cymem<2.1.0,>=2.0.2 in /Users/julia.neugarten/opt/anaconda3/envs/riveterEnv/lib/python3.9/site-packages (from spacy) (2.0.8)\n",
      "Requirement already satisfied: preshed<3.1.0,>=3.0.2 in /Users/julia.neugarten/opt/anaconda3/envs/riveterEnv/lib/python3.9/site-packages (from spacy) (3.0.9)\n",
      "Requirement already satisfied: thinc<8.3.0,>=8.2.2 in /Users/julia.neugarten/opt/anaconda3/envs/riveterEnv/lib/python3.9/site-packages (from spacy) (8.2.5)\n",
      "Requirement already satisfied: wasabi<1.2.0,>=0.9.1 in /Users/julia.neugarten/opt/anaconda3/envs/riveterEnv/lib/python3.9/site-packages (from spacy) (0.10.1)\n",
      "Requirement already satisfied: srsly<3.0.0,>=2.4.3 in /Users/julia.neugarten/opt/anaconda3/envs/riveterEnv/lib/python3.9/site-packages (from spacy) (2.4.8)\n",
      "Requirement already satisfied: catalogue<2.1.0,>=2.0.6 in /Users/julia.neugarten/opt/anaconda3/envs/riveterEnv/lib/python3.9/site-packages (from spacy) (2.0.10)\n",
      "Requirement already satisfied: weasel<0.5.0,>=0.1.0 in /Users/julia.neugarten/opt/anaconda3/envs/riveterEnv/lib/python3.9/site-packages (from spacy) (0.3.4)\n",
      "Requirement already satisfied: typer<1.0.0,>=0.3.0 in /Users/julia.neugarten/opt/anaconda3/envs/riveterEnv/lib/python3.9/site-packages (from spacy) (0.7.0)\n",
      "Requirement already satisfied: tqdm<5.0.0,>=4.38.0 in /Users/julia.neugarten/opt/anaconda3/envs/riveterEnv/lib/python3.9/site-packages (from spacy) (4.66.1)\n",
      "Requirement already satisfied: requests<3.0.0,>=2.13.0 in /Users/julia.neugarten/opt/anaconda3/envs/riveterEnv/lib/python3.9/site-packages (from spacy) (2.31.0)\n",
      "Requirement already satisfied: pydantic!=1.8,!=1.8.1,<3.0.0,>=1.7.4 in /Users/julia.neugarten/opt/anaconda3/envs/riveterEnv/lib/python3.9/site-packages (from spacy) (1.10.13)\n",
      "Requirement already satisfied: jinja2 in /Users/julia.neugarten/opt/anaconda3/envs/riveterEnv/lib/python3.9/site-packages (from spacy) (3.1.2)\n",
      "Requirement already satisfied: setuptools in /Users/julia.neugarten/opt/anaconda3/envs/riveterEnv/lib/python3.9/site-packages (from spacy) (68.0.0)\n",
      "Requirement already satisfied: packaging>=20.0 in /Users/julia.neugarten/opt/anaconda3/envs/riveterEnv/lib/python3.9/site-packages (from spacy) (23.1)\n",
      "Requirement already satisfied: langcodes<4.0.0,>=3.2.0 in /Users/julia.neugarten/opt/anaconda3/envs/riveterEnv/lib/python3.9/site-packages (from spacy) (3.3.0)\n",
      "Requirement already satisfied: numpy>=1.19.0 in /Users/julia.neugarten/opt/anaconda3/envs/riveterEnv/lib/python3.9/site-packages (from spacy) (1.26.2)\n",
      "Requirement already satisfied: typing-extensions>=4.2.0 in /Users/julia.neugarten/opt/anaconda3/envs/riveterEnv/lib/python3.9/site-packages (from pydantic!=1.8,!=1.8.1,<3.0.0,>=1.7.4->spacy) (4.7.1)\n",
      "Requirement already satisfied: charset-normalizer<4,>=2 in /Users/julia.neugarten/opt/anaconda3/envs/riveterEnv/lib/python3.9/site-packages (from requests<3.0.0,>=2.13.0->spacy) (3.3.2)\n",
      "Requirement already satisfied: idna<4,>=2.5 in /Users/julia.neugarten/opt/anaconda3/envs/riveterEnv/lib/python3.9/site-packages (from requests<3.0.0,>=2.13.0->spacy) (3.4)\n",
      "Requirement already satisfied: urllib3<3,>=1.21.1 in /Users/julia.neugarten/opt/anaconda3/envs/riveterEnv/lib/python3.9/site-packages (from requests<3.0.0,>=2.13.0->spacy) (1.26.18)\n",
      "Requirement already satisfied: certifi>=2017.4.17 in /Users/julia.neugarten/opt/anaconda3/envs/riveterEnv/lib/python3.9/site-packages (from requests<3.0.0,>=2.13.0->spacy) (2023.11.17)\n",
      "Requirement already satisfied: blis<0.8.0,>=0.7.8 in /Users/julia.neugarten/opt/anaconda3/envs/riveterEnv/lib/python3.9/site-packages (from thinc<8.3.0,>=8.2.2->spacy) (0.7.11)\n",
      "Requirement already satisfied: confection<1.0.0,>=0.0.1 in /Users/julia.neugarten/opt/anaconda3/envs/riveterEnv/lib/python3.9/site-packages (from thinc<8.3.0,>=8.2.2->spacy) (0.1.4)\n",
      "Requirement already satisfied: click<9.0.0,>=7.1.1 in /Users/julia.neugarten/opt/anaconda3/envs/riveterEnv/lib/python3.9/site-packages (from typer<1.0.0,>=0.3.0->spacy) (8.1.7)\n",
      "Requirement already satisfied: cloudpathlib<0.17.0,>=0.7.0 in /Users/julia.neugarten/opt/anaconda3/envs/riveterEnv/lib/python3.9/site-packages (from weasel<0.5.0,>=0.1.0->spacy) (0.16.0)\n",
      "Requirement already satisfied: smart-open<7.0.0,>=5.2.1 in /Users/julia.neugarten/opt/anaconda3/envs/riveterEnv/lib/python3.9/site-packages (from weasel<0.5.0,>=0.1.0->spacy) (6.4.0)\n",
      "Requirement already satisfied: MarkupSafe>=2.0 in /Users/julia.neugarten/opt/anaconda3/envs/riveterEnv/lib/python3.9/site-packages (from jinja2->spacy) (2.1.1)\n",
      "Requirement already satisfied: spacy-experimental in /Users/julia.neugarten/opt/anaconda3/envs/riveterEnv/lib/python3.9/site-packages (0.6.4)\n",
      "Requirement already satisfied: spacy<3.8.0,>=3.3.0 in /Users/julia.neugarten/opt/anaconda3/envs/riveterEnv/lib/python3.9/site-packages (from spacy-experimental) (3.7.5)\n",
      "Requirement already satisfied: numpy>=1.19.0 in /Users/julia.neugarten/opt/anaconda3/envs/riveterEnv/lib/python3.9/site-packages (from spacy-experimental) (1.26.2)\n",
      "Requirement already satisfied: spacy-legacy<3.1.0,>=3.0.11 in /Users/julia.neugarten/opt/anaconda3/envs/riveterEnv/lib/python3.9/site-packages (from spacy<3.8.0,>=3.3.0->spacy-experimental) (3.0.12)\n",
      "Requirement already satisfied: spacy-loggers<2.0.0,>=1.0.0 in /Users/julia.neugarten/opt/anaconda3/envs/riveterEnv/lib/python3.9/site-packages (from spacy<3.8.0,>=3.3.0->spacy-experimental) (1.0.5)\n",
      "Requirement already satisfied: murmurhash<1.1.0,>=0.28.0 in /Users/julia.neugarten/opt/anaconda3/envs/riveterEnv/lib/python3.9/site-packages (from spacy<3.8.0,>=3.3.0->spacy-experimental) (1.0.10)\n",
      "Requirement already satisfied: cymem<2.1.0,>=2.0.2 in /Users/julia.neugarten/opt/anaconda3/envs/riveterEnv/lib/python3.9/site-packages (from spacy<3.8.0,>=3.3.0->spacy-experimental) (2.0.8)\n",
      "Requirement already satisfied: preshed<3.1.0,>=3.0.2 in /Users/julia.neugarten/opt/anaconda3/envs/riveterEnv/lib/python3.9/site-packages (from spacy<3.8.0,>=3.3.0->spacy-experimental) (3.0.9)\n",
      "Requirement already satisfied: thinc<8.3.0,>=8.2.2 in /Users/julia.neugarten/opt/anaconda3/envs/riveterEnv/lib/python3.9/site-packages (from spacy<3.8.0,>=3.3.0->spacy-experimental) (8.2.5)\n",
      "Requirement already satisfied: wasabi<1.2.0,>=0.9.1 in /Users/julia.neugarten/opt/anaconda3/envs/riveterEnv/lib/python3.9/site-packages (from spacy<3.8.0,>=3.3.0->spacy-experimental) (0.10.1)\n",
      "Requirement already satisfied: srsly<3.0.0,>=2.4.3 in /Users/julia.neugarten/opt/anaconda3/envs/riveterEnv/lib/python3.9/site-packages (from spacy<3.8.0,>=3.3.0->spacy-experimental) (2.4.8)\n",
      "Requirement already satisfied: catalogue<2.1.0,>=2.0.6 in /Users/julia.neugarten/opt/anaconda3/envs/riveterEnv/lib/python3.9/site-packages (from spacy<3.8.0,>=3.3.0->spacy-experimental) (2.0.10)\n",
      "Requirement already satisfied: weasel<0.5.0,>=0.1.0 in /Users/julia.neugarten/opt/anaconda3/envs/riveterEnv/lib/python3.9/site-packages (from spacy<3.8.0,>=3.3.0->spacy-experimental) (0.3.4)\n",
      "Requirement already satisfied: typer<1.0.0,>=0.3.0 in /Users/julia.neugarten/opt/anaconda3/envs/riveterEnv/lib/python3.9/site-packages (from spacy<3.8.0,>=3.3.0->spacy-experimental) (0.7.0)\n",
      "Requirement already satisfied: tqdm<5.0.0,>=4.38.0 in /Users/julia.neugarten/opt/anaconda3/envs/riveterEnv/lib/python3.9/site-packages (from spacy<3.8.0,>=3.3.0->spacy-experimental) (4.66.1)\n",
      "Requirement already satisfied: requests<3.0.0,>=2.13.0 in /Users/julia.neugarten/opt/anaconda3/envs/riveterEnv/lib/python3.9/site-packages (from spacy<3.8.0,>=3.3.0->spacy-experimental) (2.31.0)\n",
      "Requirement already satisfied: pydantic!=1.8,!=1.8.1,<3.0.0,>=1.7.4 in /Users/julia.neugarten/opt/anaconda3/envs/riveterEnv/lib/python3.9/site-packages (from spacy<3.8.0,>=3.3.0->spacy-experimental) (1.10.13)\n",
      "Requirement already satisfied: jinja2 in /Users/julia.neugarten/opt/anaconda3/envs/riveterEnv/lib/python3.9/site-packages (from spacy<3.8.0,>=3.3.0->spacy-experimental) (3.1.2)\n",
      "Requirement already satisfied: setuptools in /Users/julia.neugarten/opt/anaconda3/envs/riveterEnv/lib/python3.9/site-packages (from spacy<3.8.0,>=3.3.0->spacy-experimental) (68.0.0)\n",
      "Requirement already satisfied: packaging>=20.0 in /Users/julia.neugarten/opt/anaconda3/envs/riveterEnv/lib/python3.9/site-packages (from spacy<3.8.0,>=3.3.0->spacy-experimental) (23.1)\n",
      "Requirement already satisfied: langcodes<4.0.0,>=3.2.0 in /Users/julia.neugarten/opt/anaconda3/envs/riveterEnv/lib/python3.9/site-packages (from spacy<3.8.0,>=3.3.0->spacy-experimental) (3.3.0)\n",
      "Requirement already satisfied: typing-extensions>=4.2.0 in /Users/julia.neugarten/opt/anaconda3/envs/riveterEnv/lib/python3.9/site-packages (from pydantic!=1.8,!=1.8.1,<3.0.0,>=1.7.4->spacy<3.8.0,>=3.3.0->spacy-experimental) (4.7.1)\n",
      "Requirement already satisfied: charset-normalizer<4,>=2 in /Users/julia.neugarten/opt/anaconda3/envs/riveterEnv/lib/python3.9/site-packages (from requests<3.0.0,>=2.13.0->spacy<3.8.0,>=3.3.0->spacy-experimental) (3.3.2)\n",
      "Requirement already satisfied: idna<4,>=2.5 in /Users/julia.neugarten/opt/anaconda3/envs/riveterEnv/lib/python3.9/site-packages (from requests<3.0.0,>=2.13.0->spacy<3.8.0,>=3.3.0->spacy-experimental) (3.4)\n",
      "Requirement already satisfied: urllib3<3,>=1.21.1 in /Users/julia.neugarten/opt/anaconda3/envs/riveterEnv/lib/python3.9/site-packages (from requests<3.0.0,>=2.13.0->spacy<3.8.0,>=3.3.0->spacy-experimental) (1.26.18)\n",
      "Requirement already satisfied: certifi>=2017.4.17 in /Users/julia.neugarten/opt/anaconda3/envs/riveterEnv/lib/python3.9/site-packages (from requests<3.0.0,>=2.13.0->spacy<3.8.0,>=3.3.0->spacy-experimental) (2023.11.17)\n",
      "Requirement already satisfied: blis<0.8.0,>=0.7.8 in /Users/julia.neugarten/opt/anaconda3/envs/riveterEnv/lib/python3.9/site-packages (from thinc<8.3.0,>=8.2.2->spacy<3.8.0,>=3.3.0->spacy-experimental) (0.7.11)\n",
      "Requirement already satisfied: confection<1.0.0,>=0.0.1 in /Users/julia.neugarten/opt/anaconda3/envs/riveterEnv/lib/python3.9/site-packages (from thinc<8.3.0,>=8.2.2->spacy<3.8.0,>=3.3.0->spacy-experimental) (0.1.4)\n",
      "Requirement already satisfied: click<9.0.0,>=7.1.1 in /Users/julia.neugarten/opt/anaconda3/envs/riveterEnv/lib/python3.9/site-packages (from typer<1.0.0,>=0.3.0->spacy<3.8.0,>=3.3.0->spacy-experimental) (8.1.7)\n",
      "Requirement already satisfied: cloudpathlib<0.17.0,>=0.7.0 in /Users/julia.neugarten/opt/anaconda3/envs/riveterEnv/lib/python3.9/site-packages (from weasel<0.5.0,>=0.1.0->spacy<3.8.0,>=3.3.0->spacy-experimental) (0.16.0)\n",
      "Requirement already satisfied: smart-open<7.0.0,>=5.2.1 in /Users/julia.neugarten/opt/anaconda3/envs/riveterEnv/lib/python3.9/site-packages (from weasel<0.5.0,>=0.1.0->spacy<3.8.0,>=3.3.0->spacy-experimental) (6.4.0)\n",
      "Requirement already satisfied: MarkupSafe>=2.0 in /Users/julia.neugarten/opt/anaconda3/envs/riveterEnv/lib/python3.9/site-packages (from jinja2->spacy<3.8.0,>=3.3.0->spacy-experimental) (2.1.1)\n",
      "Collecting en-core-web-sm==3.7.1\n",
      "  Downloading https://github.com/explosion/spacy-models/releases/download/en_core_web_sm-3.7.1/en_core_web_sm-3.7.1-py3-none-any.whl (12.8 MB)\n",
      "\u001b[2K     \u001b[90m━━━━━━━━━━━━━━━━━━━━━━━━━━━━━━━━━━━━━━━━\u001b[0m \u001b[32m12.8/12.8 MB\u001b[0m \u001b[31m19.8 MB/s\u001b[0m eta \u001b[36m0:00:00\u001b[0ma \u001b[36m0:00:01\u001b[0m\n",
      "\u001b[?25hRequirement already satisfied: spacy<3.8.0,>=3.7.2 in /Users/julia.neugarten/opt/anaconda3/envs/riveterEnv/lib/python3.9/site-packages (from en-core-web-sm==3.7.1) (3.7.5)\n",
      "Requirement already satisfied: spacy-legacy<3.1.0,>=3.0.11 in /Users/julia.neugarten/opt/anaconda3/envs/riveterEnv/lib/python3.9/site-packages (from spacy<3.8.0,>=3.7.2->en-core-web-sm==3.7.1) (3.0.12)\n",
      "Requirement already satisfied: spacy-loggers<2.0.0,>=1.0.0 in /Users/julia.neugarten/opt/anaconda3/envs/riveterEnv/lib/python3.9/site-packages (from spacy<3.8.0,>=3.7.2->en-core-web-sm==3.7.1) (1.0.5)\n",
      "Requirement already satisfied: murmurhash<1.1.0,>=0.28.0 in /Users/julia.neugarten/opt/anaconda3/envs/riveterEnv/lib/python3.9/site-packages (from spacy<3.8.0,>=3.7.2->en-core-web-sm==3.7.1) (1.0.10)\n",
      "Requirement already satisfied: cymem<2.1.0,>=2.0.2 in /Users/julia.neugarten/opt/anaconda3/envs/riveterEnv/lib/python3.9/site-packages (from spacy<3.8.0,>=3.7.2->en-core-web-sm==3.7.1) (2.0.8)\n",
      "Requirement already satisfied: preshed<3.1.0,>=3.0.2 in /Users/julia.neugarten/opt/anaconda3/envs/riveterEnv/lib/python3.9/site-packages (from spacy<3.8.0,>=3.7.2->en-core-web-sm==3.7.1) (3.0.9)\n",
      "Requirement already satisfied: thinc<8.3.0,>=8.2.2 in /Users/julia.neugarten/opt/anaconda3/envs/riveterEnv/lib/python3.9/site-packages (from spacy<3.8.0,>=3.7.2->en-core-web-sm==3.7.1) (8.2.5)\n",
      "Requirement already satisfied: wasabi<1.2.0,>=0.9.1 in /Users/julia.neugarten/opt/anaconda3/envs/riveterEnv/lib/python3.9/site-packages (from spacy<3.8.0,>=3.7.2->en-core-web-sm==3.7.1) (0.10.1)\n",
      "Requirement already satisfied: srsly<3.0.0,>=2.4.3 in /Users/julia.neugarten/opt/anaconda3/envs/riveterEnv/lib/python3.9/site-packages (from spacy<3.8.0,>=3.7.2->en-core-web-sm==3.7.1) (2.4.8)\n",
      "Requirement already satisfied: catalogue<2.1.0,>=2.0.6 in /Users/julia.neugarten/opt/anaconda3/envs/riveterEnv/lib/python3.9/site-packages (from spacy<3.8.0,>=3.7.2->en-core-web-sm==3.7.1) (2.0.10)\n",
      "Requirement already satisfied: weasel<0.5.0,>=0.1.0 in /Users/julia.neugarten/opt/anaconda3/envs/riveterEnv/lib/python3.9/site-packages (from spacy<3.8.0,>=3.7.2->en-core-web-sm==3.7.1) (0.3.4)\n",
      "Requirement already satisfied: typer<1.0.0,>=0.3.0 in /Users/julia.neugarten/opt/anaconda3/envs/riveterEnv/lib/python3.9/site-packages (from spacy<3.8.0,>=3.7.2->en-core-web-sm==3.7.1) (0.7.0)\n",
      "Requirement already satisfied: tqdm<5.0.0,>=4.38.0 in /Users/julia.neugarten/opt/anaconda3/envs/riveterEnv/lib/python3.9/site-packages (from spacy<3.8.0,>=3.7.2->en-core-web-sm==3.7.1) (4.66.1)\n",
      "Requirement already satisfied: requests<3.0.0,>=2.13.0 in /Users/julia.neugarten/opt/anaconda3/envs/riveterEnv/lib/python3.9/site-packages (from spacy<3.8.0,>=3.7.2->en-core-web-sm==3.7.1) (2.31.0)\n",
      "Requirement already satisfied: pydantic!=1.8,!=1.8.1,<3.0.0,>=1.7.4 in /Users/julia.neugarten/opt/anaconda3/envs/riveterEnv/lib/python3.9/site-packages (from spacy<3.8.0,>=3.7.2->en-core-web-sm==3.7.1) (1.10.13)\n",
      "Requirement already satisfied: jinja2 in /Users/julia.neugarten/opt/anaconda3/envs/riveterEnv/lib/python3.9/site-packages (from spacy<3.8.0,>=3.7.2->en-core-web-sm==3.7.1) (3.1.2)\n",
      "Requirement already satisfied: setuptools in /Users/julia.neugarten/opt/anaconda3/envs/riveterEnv/lib/python3.9/site-packages (from spacy<3.8.0,>=3.7.2->en-core-web-sm==3.7.1) (68.0.0)\n",
      "Requirement already satisfied: packaging>=20.0 in /Users/julia.neugarten/opt/anaconda3/envs/riveterEnv/lib/python3.9/site-packages (from spacy<3.8.0,>=3.7.2->en-core-web-sm==3.7.1) (23.1)\n",
      "Requirement already satisfied: langcodes<4.0.0,>=3.2.0 in /Users/julia.neugarten/opt/anaconda3/envs/riveterEnv/lib/python3.9/site-packages (from spacy<3.8.0,>=3.7.2->en-core-web-sm==3.7.1) (3.3.0)\n",
      "Requirement already satisfied: numpy>=1.19.0 in /Users/julia.neugarten/opt/anaconda3/envs/riveterEnv/lib/python3.9/site-packages (from spacy<3.8.0,>=3.7.2->en-core-web-sm==3.7.1) (1.26.2)\n",
      "Requirement already satisfied: typing-extensions>=4.2.0 in /Users/julia.neugarten/opt/anaconda3/envs/riveterEnv/lib/python3.9/site-packages (from pydantic!=1.8,!=1.8.1,<3.0.0,>=1.7.4->spacy<3.8.0,>=3.7.2->en-core-web-sm==3.7.1) (4.7.1)\n",
      "Requirement already satisfied: charset-normalizer<4,>=2 in /Users/julia.neugarten/opt/anaconda3/envs/riveterEnv/lib/python3.9/site-packages (from requests<3.0.0,>=2.13.0->spacy<3.8.0,>=3.7.2->en-core-web-sm==3.7.1) (3.3.2)\n",
      "Requirement already satisfied: idna<4,>=2.5 in /Users/julia.neugarten/opt/anaconda3/envs/riveterEnv/lib/python3.9/site-packages (from requests<3.0.0,>=2.13.0->spacy<3.8.0,>=3.7.2->en-core-web-sm==3.7.1) (3.4)\n",
      "Requirement already satisfied: urllib3<3,>=1.21.1 in /Users/julia.neugarten/opt/anaconda3/envs/riveterEnv/lib/python3.9/site-packages (from requests<3.0.0,>=2.13.0->spacy<3.8.0,>=3.7.2->en-core-web-sm==3.7.1) (1.26.18)\n",
      "Requirement already satisfied: certifi>=2017.4.17 in /Users/julia.neugarten/opt/anaconda3/envs/riveterEnv/lib/python3.9/site-packages (from requests<3.0.0,>=2.13.0->spacy<3.8.0,>=3.7.2->en-core-web-sm==3.7.1) (2023.11.17)\n",
      "Requirement already satisfied: blis<0.8.0,>=0.7.8 in /Users/julia.neugarten/opt/anaconda3/envs/riveterEnv/lib/python3.9/site-packages (from thinc<8.3.0,>=8.2.2->spacy<3.8.0,>=3.7.2->en-core-web-sm==3.7.1) (0.7.11)\n",
      "Requirement already satisfied: confection<1.0.0,>=0.0.1 in /Users/julia.neugarten/opt/anaconda3/envs/riveterEnv/lib/python3.9/site-packages (from thinc<8.3.0,>=8.2.2->spacy<3.8.0,>=3.7.2->en-core-web-sm==3.7.1) (0.1.4)\n",
      "Requirement already satisfied: click<9.0.0,>=7.1.1 in /Users/julia.neugarten/opt/anaconda3/envs/riveterEnv/lib/python3.9/site-packages (from typer<1.0.0,>=0.3.0->spacy<3.8.0,>=3.7.2->en-core-web-sm==3.7.1) (8.1.7)\n",
      "Requirement already satisfied: cloudpathlib<0.17.0,>=0.7.0 in /Users/julia.neugarten/opt/anaconda3/envs/riveterEnv/lib/python3.9/site-packages (from weasel<0.5.0,>=0.1.0->spacy<3.8.0,>=3.7.2->en-core-web-sm==3.7.1) (0.16.0)\n",
      "Requirement already satisfied: smart-open<7.0.0,>=5.2.1 in /Users/julia.neugarten/opt/anaconda3/envs/riveterEnv/lib/python3.9/site-packages (from weasel<0.5.0,>=0.1.0->spacy<3.8.0,>=3.7.2->en-core-web-sm==3.7.1) (6.4.0)\n",
      "Requirement already satisfied: MarkupSafe>=2.0 in /Users/julia.neugarten/opt/anaconda3/envs/riveterEnv/lib/python3.9/site-packages (from jinja2->spacy<3.8.0,>=3.7.2->en-core-web-sm==3.7.1) (2.1.1)\n",
      "\u001b[38;5;2m✔ Download and installation successful\u001b[0m\n",
      "You can now load the package via spacy.load('en_core_web_sm')\n",
      "\n",
      "\u001b[38;5;1m✘ No compatible package found for 'en_coreference_web_trf' (spaCy\n",
      "v3.7.5)\u001b[0m\n",
      "\n"
     ]
    }
   ],
   "source": [
    "#install required spacy packages\n",
    "\n",
    "!pip install spacy # if you haven't already\n",
    "!pip install -U spacy-experimental\n",
    "!python -m spacy download en_core_web_sm\n",
    "!python -m spacy download en_coreference_web_trf"
   ]
  },
  {
   "cell_type": "code",
   "execution_count": 4,
   "id": "dee3b1da",
   "metadata": {},
   "outputs": [
    {
     "name": "stderr",
     "output_type": "stream",
     "text": [
      "/Users/julia.neugarten/opt/anaconda3/envs/riveterEnv/lib/python3.9/site-packages/spacy/util.py:910: UserWarning: [W095] Model 'en_coreference_web_trf' (3.4.0a0) was trained with spaCy v3.3.0 and may not be 100% compatible with the current version (3.7.5). If you see errors or degraded performance, download a newer compatible model or retrain your custom model with the current spaCy version. For more details and available updates, run: python -m spacy validate\n",
      "  warnings.warn(warn_msg)\n"
     ]
    },
    {
     "data": {
      "text/plain": [
       "<spacy_experimental.coref.span_resolver_component.SpanResolver at 0x7fca36aea0a0>"
      ]
     },
     "execution_count": 4,
     "metadata": {},
     "output_type": "execute_result"
    }
   ],
   "source": [
    "# importing the requirements\n",
    "\n",
    "from collections import defaultdict\n",
    "import os\n",
    "import pandas as pd\n",
    "import random\n",
    "from riveter import Riveter\n",
    "import pickle\n",
    "import shutil\n",
    "\n",
    "import seaborn as sns\n",
    "import matplotlib.pyplot as plt\n",
    "\n",
    "\n",
    "# SPACY & COREF IMPORTS\n",
    "import spacy\n",
    "import spacy_experimental\n",
    "nlp = spacy.load(\"en_core_web_sm\")\n",
    "nlp_coref = spacy.load(\"en_coreference_web_trf\")\n",
    "\n",
    "nlp_coref.replace_listeners(\"transformer\", \"coref\", [\"model.tok2vec\"])\n",
    "nlp_coref.replace_listeners(\"transformer\", \"span_resolver\", [\"model.tok2vec\"])\n",
    "\n",
    "nlp.add_pipe(\"coref\", source=nlp_coref)\n",
    "nlp.add_pipe(\"span_resolver\", source=nlp_coref)"
   ]
  },
  {
   "cell_type": "code",
   "execution_count": 7,
   "id": "442f5d98",
   "metadata": {},
   "outputs": [],
   "source": [
    "!conda env export > environment.yml\n"
   ]
  },
  {
   "cell_type": "markdown",
   "id": "b40cf90e",
   "metadata": {},
   "source": [
    "# Loading the model"
   ]
  },
  {
   "cell_type": "markdown",
   "id": "187c4bfb",
   "metadata": {},
   "source": [
    "To replicate my research, you need to move the two pickle files from the main folder (CCLS2025) into the riveter-nlp/riveter folder where you are now. \n",
    "I've found the easiest way to do that is... manually in your interface\n"
   ]
  },
  {
   "cell_type": "code",
   "execution_count": 6,
   "id": "dad3c992",
   "metadata": {},
   "outputs": [],
   "source": [
    "# riveter = Riveter(filename = \"hadper_power.pkl\")\n",
    "with open(\"hadper_power_CCLS_redacted.pkl\", 'rb') as f:\n",
    "    riveter = pickle.load(f)\n",
    "    \n",
    "# note that you can change 'power' to 'agency' here to switch between dimensions"
   ]
  },
  {
   "cell_type": "code",
   "execution_count": null,
   "id": "fbb2b835",
   "metadata": {},
   "outputs": [],
   "source": [
    "# You can count the number of times a given entity has been assigned a coreference cluster\n",
    "\n",
    "clustercounts = riveter.get_persona_cluster('persephone')\n",
    "print(sum(clustercounts.values()))"
   ]
  },
  {
   "cell_type": "code",
   "execution_count": null,
   "id": "bbab5f11",
   "metadata": {},
   "outputs": [],
   "source": [
    "persona_score_dict = riveter.get_score_totals()\n",
    "for _persona, _score in sorted(persona_score_dict.items(), key=lambda x: x[1], reverse=True):\n",
    "    print(round(_score, 3), '\\t', _persona)"
   ]
  },
  {
   "cell_type": "markdown",
   "id": "ca71d7ab",
   "metadata": {},
   "source": [
    "# Cumulative Scores\n",
    "You can use the .get_score_totals() function to get cumulative power scores (or chosen dynamic scores) for each persona mentioned in the texts."
   ]
  },
  {
   "cell_type": "code",
   "execution_count": null,
   "id": "d05d58fc",
   "metadata": {},
   "outputs": [],
   "source": [
    "# a frequency threshold of 10 cleans up these results nicely\n",
    "\n",
    "riveter.get_score_totals(10)"
   ]
  },
  {
   "cell_type": "markdown",
   "id": "f3747402",
   "metadata": {},
   "source": [
    "### Scores per persona"
   ]
  },
  {
   "cell_type": "code",
   "execution_count": null,
   "id": "bc2314f8",
   "metadata": {},
   "outputs": [],
   "source": [
    "#We can see all the contributing verbs for each persona and whether they contributed positively or negatively.\n",
    "riveter.get_persona_polarity_verb_count_dict()"
   ]
  },
  {
   "cell_type": "code",
   "execution_count": null,
   "id": "5e064614",
   "metadata": {},
   "outputs": [],
   "source": [
    "# And we can view these scores for each persona.\n",
    "#In the following heatmap, each cell contains the count of matching verbs for the persona that contributed either positively or negatively to its final score. \n",
    "\n",
    "riveter.plot_verbs_for_persona('hades', figsize=(2, 8))"
   ]
  },
  {
   "cell_type": "markdown",
   "id": "20fa35d6",
   "metadata": {},
   "source": [
    "### Plotting scores"
   ]
  },
  {
   "cell_type": "code",
   "execution_count": null,
   "id": "c2d63fbc",
   "metadata": {},
   "outputs": [],
   "source": [
    "#You can use the .plot_scores() function to display a bar plot with the top n or bottom n personas in the texts.\n",
    "#The function will display the top 10 highest-scoring personas by default.\n",
    "\n",
    "\n",
    "\n",
    "riveter.plot_scores(title='Personas by Score', target_personas=['hades', 'persephone'], figsize=(3, 3))"
   ]
  }
 ],
 "metadata": {
  "kernelspec": {
   "display_name": "riveterEnv",
   "language": "python",
   "name": "python3"
  },
  "language_info": {
   "codemirror_mode": {
    "name": "ipython",
    "version": 3
   },
   "file_extension": ".py",
   "mimetype": "text/x-python",
   "name": "python",
   "nbconvert_exporter": "python",
   "pygments_lexer": "ipython3",
   "version": "3.9.18"
  }
 },
 "nbformat": 4,
 "nbformat_minor": 5
}
